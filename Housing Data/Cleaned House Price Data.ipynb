{
 "cells": [
  {
   "cell_type": "code",
   "execution_count": 1,
   "metadata": {},
   "outputs": [],
   "source": [
    "import csv\n",
    "import pandas as pd\n",
    "import matplotlib.pyplot as plt"
   ]
  },
  {
   "cell_type": "code",
   "execution_count": 23,
   "metadata": {},
   "outputs": [],
   "source": [
    "housing_data = pd.read_csv(\"./Data/HPI_AT_state.csv\")\n",
    "housing_data = housing_data.loc[(housing_data['Year']==2006)|(housing_data['Year']==2007)|(housing_data['Year']==2008)|(housing_data['Year']==2009)|(housing_data['Year']==2010)|(housing_data['Year']==2011)|(housing_data['Year']==2012)|(housing_data['Year']==2013)|(housing_data['Year']==2014)|(housing_data['Year']==2015)|(housing_data['Year']==2016)|(housing_data['Year']==2017)|(housing_data['Year']==2018)]\n",
    "housing_data = housing_data.set_index(\"State\")\n",
    "housing_data = housing_data.loc[housing_data['Quarter']==1]\n",
    "del housing_data['Quarter']"
   ]
  },
  {
   "cell_type": "code",
   "execution_count": 25,
   "metadata": {},
   "outputs": [],
   "source": [
    "housing_data.to_csv(r'housing_data')"
   ]
  },
  {
   "cell_type": "code",
   "execution_count": null,
   "metadata": {},
   "outputs": [],
   "source": []
  }
 ],
 "metadata": {
  "kernelspec": {
   "display_name": "Python 3",
   "language": "python",
   "name": "python3"
  },
  "language_info": {
   "codemirror_mode": {
    "name": "ipython",
    "version": 3
   },
   "file_extension": ".py",
   "mimetype": "text/x-python",
   "name": "python",
   "nbconvert_exporter": "python",
   "pygments_lexer": "ipython3",
   "version": "3.7.4"
  }
 },
 "nbformat": 4,
 "nbformat_minor": 2
}
