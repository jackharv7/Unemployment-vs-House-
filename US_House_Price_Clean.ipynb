{
 "cells": [
  {
   "cell_type": "code",
   "execution_count": 8,
   "metadata": {},
   "outputs": [],
   "source": [
    "import csv\n",
    "import pandas as pd\n",
    "import matplotlib.pyplot as plt"
   ]
  },
  {
   "cell_type": "code",
   "execution_count": 22,
   "metadata": {},
   "outputs": [],
   "source": [
    "us_house_price = pd.read_csv(\"./Data/Median_House_Price_US.csv\")"
   ]
  },
  {
   "cell_type": "code",
   "execution_count": 24,
   "metadata": {},
   "outputs": [],
   "source": [
    "us_house_price = us_house_price.loc[(us_house_price['DATE']== '2007-01-01')| (us_house_price['DATE']== '2008-01-01')| (us_house_price['DATE']== '2009-01-01')|(us_house_price['DATE']== '2010-01-01')|(us_house_price['DATE']== '2011-01-01')|(us_house_price['DATE']== '2012-01-01')|(us_house_price['DATE']== '2013-01-01')|(us_house_price['DATE']== '2014-01-01')|(us_house_price['DATE']== '2015-01-01')|(us_house_price['DATE']== '2016-01-01')|(us_house_price['DATE']== '2017-01-01')|(us_house_price['DATE']== '2018-01-01')]\n",
    "us_house_price.to_csv(r'us_house_price_data')"
   ]
  },
  {
   "cell_type": "code",
   "execution_count": 25,
   "metadata": {},
   "outputs": [
    {
     "data": {
      "text/html": [
       "<div>\n",
       "<style scoped>\n",
       "    .dataframe tbody tr th:only-of-type {\n",
       "        vertical-align: middle;\n",
       "    }\n",
       "\n",
       "    .dataframe tbody tr th {\n",
       "        vertical-align: top;\n",
       "    }\n",
       "\n",
       "    .dataframe thead th {\n",
       "        text-align: right;\n",
       "    }\n",
       "</style>\n",
       "<table border=\"1\" class=\"dataframe\">\n",
       "  <thead>\n",
       "    <tr style=\"text-align: right;\">\n",
       "      <th></th>\n",
       "      <th>DATE</th>\n",
       "      <th>MSPUS</th>\n",
       "    </tr>\n",
       "  </thead>\n",
       "  <tbody>\n",
       "    <tr>\n",
       "      <th>176</th>\n",
       "      <td>2007-01-01</td>\n",
       "      <td>257400.0</td>\n",
       "    </tr>\n",
       "    <tr>\n",
       "      <th>180</th>\n",
       "      <td>2008-01-01</td>\n",
       "      <td>233900.0</td>\n",
       "    </tr>\n",
       "    <tr>\n",
       "      <th>184</th>\n",
       "      <td>2009-01-01</td>\n",
       "      <td>208400.0</td>\n",
       "    </tr>\n",
       "    <tr>\n",
       "      <th>188</th>\n",
       "      <td>2010-01-01</td>\n",
       "      <td>222900.0</td>\n",
       "    </tr>\n",
       "    <tr>\n",
       "      <th>192</th>\n",
       "      <td>2011-01-01</td>\n",
       "      <td>226900.0</td>\n",
       "    </tr>\n",
       "    <tr>\n",
       "      <th>196</th>\n",
       "      <td>2012-01-01</td>\n",
       "      <td>238400.0</td>\n",
       "    </tr>\n",
       "    <tr>\n",
       "      <th>200</th>\n",
       "      <td>2013-01-01</td>\n",
       "      <td>258400.0</td>\n",
       "    </tr>\n",
       "    <tr>\n",
       "      <th>204</th>\n",
       "      <td>2014-01-01</td>\n",
       "      <td>275200.0</td>\n",
       "    </tr>\n",
       "    <tr>\n",
       "      <th>208</th>\n",
       "      <td>2015-01-01</td>\n",
       "      <td>289200.0</td>\n",
       "    </tr>\n",
       "    <tr>\n",
       "      <th>212</th>\n",
       "      <td>2016-01-01</td>\n",
       "      <td>299800.0</td>\n",
       "    </tr>\n",
       "    <tr>\n",
       "      <th>216</th>\n",
       "      <td>2017-01-01</td>\n",
       "      <td>313100.0</td>\n",
       "    </tr>\n",
       "    <tr>\n",
       "      <th>220</th>\n",
       "      <td>2018-01-01</td>\n",
       "      <td>331800.0</td>\n",
       "    </tr>\n",
       "  </tbody>\n",
       "</table>\n",
       "</div>"
      ],
      "text/plain": [
       "           DATE     MSPUS\n",
       "176  2007-01-01  257400.0\n",
       "180  2008-01-01  233900.0\n",
       "184  2009-01-01  208400.0\n",
       "188  2010-01-01  222900.0\n",
       "192  2011-01-01  226900.0\n",
       "196  2012-01-01  238400.0\n",
       "200  2013-01-01  258400.0\n",
       "204  2014-01-01  275200.0\n",
       "208  2015-01-01  289200.0\n",
       "212  2016-01-01  299800.0\n",
       "216  2017-01-01  313100.0\n",
       "220  2018-01-01  331800.0"
      ]
     },
     "execution_count": 25,
     "metadata": {},
     "output_type": "execute_result"
    }
   ],
   "source": [
    "us_house_price"
   ]
  },
  {
   "cell_type": "code",
   "execution_count": null,
   "metadata": {},
   "outputs": [],
   "source": []
  }
 ],
 "metadata": {
  "kernelspec": {
   "display_name": "Python 3",
   "language": "python",
   "name": "python3"
  },
  "language_info": {
   "codemirror_mode": {
    "name": "ipython",
    "version": 3
   },
   "file_extension": ".py",
   "mimetype": "text/x-python",
   "name": "python",
   "nbconvert_exporter": "python",
   "pygments_lexer": "ipython3",
   "version": "3.7.4"
  }
 },
 "nbformat": 4,
 "nbformat_minor": 2
}
